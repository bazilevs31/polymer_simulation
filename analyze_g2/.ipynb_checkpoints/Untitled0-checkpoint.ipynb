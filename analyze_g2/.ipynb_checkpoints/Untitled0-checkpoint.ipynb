{
 "metadata": {
  "name": "",
  "signature": "sha256:8b20291d17c40941050e438b9d439fa22b8e7b6ce3380c2aa6a84a3cb5b2b68c"
 },
 "nbformat": 3,
 "nbformat_minor": 0,
 "worksheets": [
  {
   "cells": [
    {
     "cell_type": "code",
     "collapsed": false,
     "input": [
      "!cython --version\n"
     ],
     "language": "python",
     "metadata": {},
     "outputs": [
      {
       "output_type": "stream",
       "stream": "stdout",
       "text": [
        "Cython version 0.20.1\r\n"
       ]
      }
     ],
     "prompt_number": 1
    },
    {
     "cell_type": "code",
     "collapsed": false,
     "input": [
      "%load_ext cythonmagic\n"
     ],
     "language": "python",
     "metadata": {},
     "outputs": [],
     "prompt_number": 2
    },
    {
     "cell_type": "code",
     "collapsed": false,
     "input": [
      "%%cython\n",
      "\n",
      "import numpy as np\n",
      "cimport cython\n",
      "from libc.math cimport sqrt\n",
      "\n",
      "@cython.boundscheck(False)\n",
      "@cython.wraparound(False)\n",
      "def pairwise_cython(double[:, ::1] X):\n",
      "    cdef int M = X.shape[0]\n",
      "    cdef int N = X.shape[1]\n",
      "    cdef double tmp, d\n",
      "    cdef double[:, ::1] D = np.empty((M, M), dtype=np.float64)\n",
      "    for i in range(M):\n",
      "        for j in range(M):\n",
      "            d = 0.0\n",
      "            for k in range(N):\n",
      "                tmp = X[i, k] - X[j, k]\n",
      "                d += tmp * tmp\n",
      "            D[i, j] = sqrt(d)\n",
      "    return np.asarray(D)"
     ],
     "language": "python",
     "metadata": {},
     "outputs": [],
     "prompt_number": 3
    },
    {
     "cell_type": "code",
     "collapsed": false,
     "input": [
      "import numpy as np\n",
      "\n",
      "X = np.random.random((1000, 3))\n",
      "X_wide = np.random.random((1000, 100))"
     ],
     "language": "python",
     "metadata": {},
     "outputs": [],
     "prompt_number": 4
    },
    {
     "cell_type": "code",
     "collapsed": false,
     "input": [
      "%timeit pairwise_cython(X)"
     ],
     "language": "python",
     "metadata": {},
     "outputs": [
      {
       "output_type": "stream",
       "stream": "stdout",
       "text": [
        "100 loops, best of 3: 18.7 ms per loop\n"
       ]
      }
     ],
     "prompt_number": 5
    },
    {
     "cell_type": "markdown",
     "metadata": {},
     "source": [
      "Now we want to connect *gsl* library here\n",
      "and create a histogramm out of the data, where\n",
      "the margins would be  min and max of the array\n"
     ]
    },
    {
     "cell_type": "code",
     "collapsed": false,
     "input": [
      "y=pairwise_cython(X)"
     ],
     "language": "python",
     "metadata": {},
     "outputs": [],
     "prompt_number": 8
    },
    {
     "cell_type": "code",
     "collapsed": false,
     "input": [
      "y"
     ],
     "language": "python",
     "metadata": {},
     "outputs": [
      {
       "metadata": {},
       "output_type": "pyout",
       "prompt_number": 11,
       "text": [
        "array([[ 0.        ,  0.16195357,  0.58534943, ...,  0.57329918,\n",
        "         0.47121037,  0.39107734],\n",
        "       [ 0.16195357,  0.        ,  0.5931105 , ...,  0.42242811,\n",
        "         0.40937059,  0.39426059],\n",
        "       [ 0.58534943,  0.5931105 ,  0.        , ...,  0.87570582,\n",
        "         1.00212002,  0.24266751],\n",
        "       ..., \n",
        "       [ 0.57329918,  0.42242811,  0.87570582, ...,  0.        ,\n",
        "         0.42307341,  0.68672236],\n",
        "       [ 0.47121037,  0.40937059,  1.00212002, ...,  0.42307341,\n",
        "         0.        ,  0.79789294],\n",
        "       [ 0.39107734,  0.39426059,  0.24266751, ...,  0.68672236,\n",
        "         0.79789294,  0.        ]])"
       ]
      }
     ],
     "prompt_number": 11
    },
    {
     "cell_type": "code",
     "collapsed": false,
     "input": [],
     "language": "python",
     "metadata": {},
     "outputs": [],
     "prompt_number": 15
    },
    {
     "cell_type": "code",
     "collapsed": false,
     "input": [
      "y.shape"
     ],
     "language": "python",
     "metadata": {},
     "outputs": [
      {
       "metadata": {},
       "output_type": "pyout",
       "prompt_number": 16,
       "text": [
        "(1000, 1000)"
       ]
      }
     ],
     "prompt_number": 16
    },
    {
     "cell_type": "code",
     "collapsed": false,
     "input": [
      "%%cython -lgsl -lgslcblas\n",
      "# '''\n",
      "# Gibbs sampler for function:\n",
      "\n",
      "# f(x,y) = x x^2 \\exp(-xy^2 - y^2 + 2y - 4x)\n",
      "\n",
      "# using conditional distributions:\n",
      "\n",
      "# x|y \\sim Gamma(3, y^2 +4)\n",
      "# y|x \\sim Normal(\\frac{1}{1+x}, \\frac{1}{2(1+x)})\n",
      "\n",
      "# Original version written by Flavio Coelho.\n",
      "# Tweaked by Chris Fonnesbeck.\n",
      "# Ported to CythonGSL Thomas V. Wiecki.\n",
      "# '''\n",
      "# cimport cython\n",
      "# from cython_gsl cimport *\n",
      "\n",
      "# import numpy as np\n",
      "# cimport numpy as np\n",
      "\n",
      "# from libc.math cimport sqrt\n",
      "\n",
      "# cdef gsl_rng *r = gsl_rng_alloc(gsl_rng_mt19937)\n",
      "\n"
     ],
     "language": "python",
     "metadata": {},
     "outputs": [
      {
       "output_type": "stream",
       "stream": "stderr",
       "text": [
        "\n",
        "Error compiling Cython file:\n",
        "------------------------------------------------------------\n",
        "...\n",
        "Original version written by Flavio Coelho.\n",
        "Tweaked by Chris Fonnesbeck.\n",
        "Ported to CythonGSL Thomas V. Wiecki.\n",
        "'''\n",
        "cimport cython\n",
        "from cython_gsl cimport *\n",
        "^\n",
        "------------------------------------------------------------\n",
        "\n",
        "/home/vasiliy/.cache/ipython/cython/_cython_magic_439d4febafcb99c4f5fcad137a893e00.pyx:16:0: 'cython_gsl.pxd' not found\n"
       ]
      }
     ],
     "prompt_number": 19
    },
    {
     "cell_type": "code",
     "collapsed": false,
     "input": [],
     "language": "python",
     "metadata": {},
     "outputs": []
    }
   ],
   "metadata": {}
  }
 ]
}